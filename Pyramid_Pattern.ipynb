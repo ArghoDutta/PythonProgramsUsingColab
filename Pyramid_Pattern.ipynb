{
  "nbformat": 4,
  "nbformat_minor": 0,
  "metadata": {
    "colab": {
      "provenance": [],
      "authorship_tag": "ABX9TyM7vCNB8h9bX3g9vpUCltyP",
      "include_colab_link": true
    },
    "kernelspec": {
      "name": "python3",
      "display_name": "Python 3"
    },
    "language_info": {
      "name": "python"
    }
  },
  "cells": [
    {
      "cell_type": "markdown",
      "metadata": {
        "id": "view-in-github",
        "colab_type": "text"
      },
      "source": [
        "<a href=\"https://colab.research.google.com/github/ArghoDutta/PythonProgramsUsingColab/blob/main/Pyramid_Pattern.ipynb\" target=\"_parent\"><img src=\"https://colab.research.google.com/assets/colab-badge.svg\" alt=\"Open In Colab\"/></a>"
      ]
    },
    {
      "cell_type": "code",
      "execution_count": 7,
      "metadata": {
        "colab": {
          "base_uri": "https://localhost:8080/"
        },
        "id": "DdfEzr5qS-Q-",
        "outputId": "64c1a566-496f-43f3-9fe5-2c8fefd7f506"
      },
      "outputs": [
        {
          "output_type": "stream",
          "name": "stdout",
          "text": [
            "Enter the value of n=4\n",
            "   * \n",
            "  *** \n",
            " ***** \n",
            "******* \n"
          ]
        }
      ],
      "source": [
        "''' Print a pyramid Pattern:     *\n",
        "                                ***\n",
        "                               *****\n",
        "                              *******\n",
        "                                '''\n",
        "n=int(input(\"Enter the value of n=\"))\n",
        "for i in range (1,n+1):\n",
        "  for j in range(0,n-i):\n",
        "    print(\" \",end=\"\")\n",
        "  for k in range(0,((2*i)-1)):\n",
        "    print(\"*\",end=\"\")\n",
        "  print(\" \")\n",
        "\n",
        "\n",
        "\n",
        ""
      ]
    }
  ]
}