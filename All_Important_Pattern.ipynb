{
  "nbformat": 4,
  "nbformat_minor": 0,
  "metadata": {
    "colab": {
      "provenance": [],
      "authorship_tag": "ABX9TyMonvSIuciKEruotsjwRkvt",
      "include_colab_link": true
    },
    "kernelspec": {
      "name": "python3",
      "display_name": "Python 3"
    },
    "language_info": {
      "name": "python"
    }
  },
  "cells": [
    {
      "cell_type": "markdown",
      "metadata": {
        "id": "view-in-github",
        "colab_type": "text"
      },
      "source": [
        "<a href=\"https://colab.research.google.com/github/ArghoDutta/PythonProgramsUsingColab/blob/main/All_Important_Pattern.ipynb\" target=\"_parent\"><img src=\"https://colab.research.google.com/assets/colab-badge.svg\" alt=\"Open In Colab\"/></a>"
      ]
    },
    {
      "cell_type": "code",
      "execution_count": null,
      "metadata": {
        "colab": {
          "base_uri": "https://localhost:8080/"
        },
        "id": "x0pM28MqdvIu",
        "outputId": "c1b9fe5f-d2e8-4dd6-e818-372c650e0507"
      },
      "outputs": [
        {
          "output_type": "stream",
          "name": "stdout",
          "text": [
            "enter the value of n=5\n",
            "***** \n",
            "***** \n",
            "***** \n",
            "***** \n",
            "***** \n"
          ]
        }
      ],
      "source": [
        "'''1)Print the square pattern of size n:\n",
        "                           Ex:-n=5 *****\n",
        "                                   *****\n",
        "                                   *****\n",
        "                                   *****\n",
        "                                   ***** '''\n",
        "n=int(input(\"enter the value of n=\"))\n",
        "for i in range(1,n+1):\n",
        "  for j in range(1,n+1):\n",
        "    print(\"*\",end=\"\")\n",
        "  print(\" \")"
      ]
    },
    {
      "cell_type": "code",
      "source": [
        "'''2)Print a right-angled triangle pattern: *\n",
        "                                            **\n",
        "                   For n=5                  ***\n",
        "                                            ****\n",
        "                                            ***** '''\n",
        "n=int(input(\"Enter the value of n=\"))\n",
        "for i in range (1,n+1):\n",
        "  for j in range(1,i+1):\n",
        "    print(\"*\",end=\"\")\n",
        "  print(\"\")\n",
        "\n",
        "\n"
      ],
      "metadata": {
        "colab": {
          "base_uri": "https://localhost:8080/"
        },
        "id": "n5PdrJeKerCn",
        "outputId": "a76f87ed-66e4-4f21-e0cf-0214e09a2f4f"
      },
      "execution_count": null,
      "outputs": [
        {
          "output_type": "stream",
          "name": "stdout",
          "text": [
            "Enter the value of n=5\n",
            "*\n",
            "**\n",
            "***\n",
            "****\n",
            "*****\n"
          ]
        }
      ]
    },
    {
      "cell_type": "code",
      "source": [
        "'''3)Print an inverted right-angled triangle pattern:\n",
        "                For n=5       *****\n",
        "                              ****\n",
        "                              ***\n",
        "                              **\n",
        "                              *   '''\n",
        "n=int(input(\"Enter the value of n=\"))\n",
        "for i in range(1,n+1):\n",
        "  for j in range(0,((n+1)-i)):\n",
        "    print(\"*\",end=\"\")\n",
        "  print(\"\")"
      ],
      "metadata": {
        "colab": {
          "base_uri": "https://localhost:8080/"
        },
        "id": "Z4z8hnMufd40",
        "outputId": "8433e322-79f9-4cf1-ec92-25852cbb7d43"
      },
      "execution_count": null,
      "outputs": [
        {
          "output_type": "stream",
          "name": "stdout",
          "text": [
            "Enter the value of n=5\n",
            "*****\n",
            "****\n",
            "***\n",
            "**\n",
            "*\n"
          ]
        }
      ]
    },
    {
      "cell_type": "code",
      "source": [
        "'''4)Print  pyramid Pattern:     *\n",
        "                                ***\n",
        "                               *****\n",
        "                              *******'''\n",
        "n=int(input(\"Enter the value of n=\"))\n",
        "for i in range (1,n+1):\n",
        "  for j in range(0,n-i):\n",
        "    print(\" \",end=\"\")\n",
        "  for k in range(0,((2*i)-1)):\n",
        "    print(\"*\",end=\"\")\n",
        "  print(\" \")\n",
        "\n"
      ],
      "metadata": {
        "colab": {
          "base_uri": "https://localhost:8080/"
        },
        "id": "ZwQpEX3ngO97",
        "outputId": "4d0f09a0-8808-4538-8065-3aa2cb2ac9f7"
      },
      "execution_count": null,
      "outputs": [
        {
          "output_type": "stream",
          "name": "stdout",
          "text": [
            "Enter the value of n=5\n",
            "    * \n",
            "   *** \n",
            "  ***** \n",
            " ******* \n",
            "********* \n"
          ]
        }
      ]
    },
    {
      "cell_type": "code",
      "source": [
        "'''5)Print a hollow square pattern *****\n",
        "                                   *   *\n",
        "                                   *   *\n",
        "                                   *   *\n",
        "                                   ***** '''\n",
        "n=int(input(\"Enter the number of rows=\"))\n",
        "for i in range(0,n):\n",
        "  for j in range(0,n):\n",
        "    if(i==0 or i==(n-1) or j==0 or j==(n-1)):\n",
        "      print(\"*\",end=\"\")\n",
        "    else:\n",
        "      print(\" \",end=\"\")\n",
        "  print(\"\")"
      ],
      "metadata": {
        "colab": {
          "base_uri": "https://localhost:8080/"
        },
        "id": "si-TKxWlggKm",
        "outputId": "a333866b-2b03-4ff4-9d7e-ba51c53c5740"
      },
      "execution_count": null,
      "outputs": [
        {
          "output_type": "stream",
          "name": "stdout",
          "text": [
            "Enter the number of rows=5\n",
            "*****\n",
            "*   *\n",
            "*   *\n",
            "*   *\n",
            "*****\n"
          ]
        }
      ]
    },
    {
      "cell_type": "code",
      "source": [
        "'''6)Print a diamond pattern:         *\n",
        "                                     ***\n",
        "                                    *****\n",
        "                                   *******\n",
        "                                    *****\n",
        "                                     ***\n",
        "                                      *   '''\n",
        "n=int(input(\"Enter the value of n=\"))\n",
        "for i in range (1,int(n/2)+2):\n",
        "  for j in range(0,int((n/2)+2)-i):\n",
        "    print(\" \",end=\"\")\n",
        "  for k in range(0,((2*i)-1)):\n",
        "    print(\"*\",end=\"\")\n",
        "  print(\" \")\n",
        "for i in range (1,int(n/2)+1):\n",
        "  for j in range(1,i+2):\n",
        "    print(\" \",end=\"\")\n",
        "  for k in range(0,(((int(n/2)+1)-i)*2)-1):\n",
        "    print(\"*\",end=\"\")\n",
        "  print(\"\")\n"
      ],
      "metadata": {
        "colab": {
          "base_uri": "https://localhost:8080/"
        },
        "id": "dULcjuJNhtQ3",
        "outputId": "a4a1192e-9610-4501-dce9-ae6c536d2a8a"
      },
      "execution_count": null,
      "outputs": [
        {
          "output_type": "stream",
          "name": "stdout",
          "text": [
            "Enter the value of n=7\n",
            "    * \n",
            "   *** \n",
            "  ***** \n",
            " ******* \n",
            "  *****\n",
            "   ***\n",
            "    *\n"
          ]
        }
      ]
    },
    {
      "cell_type": "code",
      "source": [
        "'''7) Print the hollow diamond pattern:             *\n",
        "                                                  *   *\n",
        "                                                *       *\n",
        "                                              *           *\n",
        "                                            *               *\n",
        "                                              *           *\n",
        "                                                *       *\n",
        "                                                  *   *\n",
        "                                                    *      '''\n",
        "def print_hollow_diamond(n):\n",
        "    # Print the upper part of the diamond\n",
        "    for i in range(n):\n",
        "        # Print leading spaces\n",
        "        print(' ' * (n - i - 1), end='')\n",
        "        # Print the first star\n",
        "        print('*', end='')\n",
        "        # Print spaces between stars\n",
        "        if i > 0:\n",
        "            print(' ' * (2 * i - 1), end='')\n",
        "            # Print the second star\n",
        "            print('*', end='')\n",
        "        # Move to the next line\n",
        "        print()\n",
        "\n",
        "    # Print the lower part of the diamond\n",
        "    for i in range(n - 2, -1, -1):\n",
        "        # Print leading spaces\n",
        "        print(' ' * (n - i - 1), end='')\n",
        "        # Print the first star\n",
        "        print('*', end='')\n",
        "        # Print spaces between stars\n",
        "        if i > 0:\n",
        "            print(' ' * (2 * i - 1), end='')\n",
        "            # Print the second star\n",
        "            print('*', end='')\n",
        "        # Move to the next line\n",
        "        print()\n",
        "\n",
        "# Specify the number of lines for the upper part of the diamond (including the middle line)\n",
        "n = 5\n",
        "print_hollow_diamond(n)"
      ],
      "metadata": {
        "colab": {
          "base_uri": "https://localhost:8080/"
        },
        "id": "r_OyKaTifbHS",
        "outputId": "96defe4e-9ccd-4a39-ba7b-5b42f2b43f54"
      },
      "execution_count": 5,
      "outputs": [
        {
          "output_type": "stream",
          "name": "stdout",
          "text": [
            "    *\n",
            "   * *\n",
            "  *   *\n",
            " *     *\n",
            "*       *\n",
            " *     *\n",
            "  *   *\n",
            "   * *\n",
            "    *\n"
          ]
        }
      ]
    },
    {
      "cell_type": "code",
      "source": [
        "'''8) Print a hollow pyramid pattern:     *\n",
        "                                         * *\n",
        "                                        *   *\n",
        "                                       *     *\n",
        "                                      ********* '''\n",
        "n=int(input(\"Enter number of rows=\"))\n",
        "for i in range(0,n):\n",
        "  for j in range(0,(n-1)*2+1):\n",
        "    if(i+j==4 or i==4 or j-i==4):\n",
        "      print(\"*\",end=\"\")\n",
        "    else:\n",
        "      print(\" \",end=\"\")\n",
        "  print(\"\")"
      ],
      "metadata": {
        "colab": {
          "base_uri": "https://localhost:8080/"
        },
        "id": "LxVywCMuht-5",
        "outputId": "ad60f6e7-0345-4202-d6a3-a15cbf980561"
      },
      "execution_count": 7,
      "outputs": [
        {
          "output_type": "stream",
          "name": "stdout",
          "text": [
            "Enter number of rows=5\n",
            "    *    \n",
            "   * *   \n",
            "  *   *  \n",
            " *     * \n",
            "*********\n"
          ]
        }
      ]
    },
    {
      "cell_type": "code",
      "source": [
        "'''9)Print a hollow half pyramid pattern: *\n",
        "                                          **\n",
        "                                          * *\n",
        "                                          *  *\n",
        "                                          *   * '''\n",
        "n=int(input(\"Enter the number of rows=\"))\n",
        "for i in range(0,n):\n",
        "  for j in range (0,i+1):\n",
        "    if(j==0 or j==i):\n",
        "      print(\"*\",end=\"\")\n",
        "    else:\n",
        "      print(\" \",end=\"\")\n",
        "  print(\" \")\n"
      ],
      "metadata": {
        "colab": {
          "base_uri": "https://localhost:8080/"
        },
        "id": "enAI4L_ejAuK",
        "outputId": "61c400b5-e6fd-4389-8f7f-8eaac13d0d5a"
      },
      "execution_count": 9,
      "outputs": [
        {
          "output_type": "stream",
          "name": "stdout",
          "text": [
            "Enter the number of rows=5\n",
            "* \n",
            "** \n",
            "* * \n",
            "*  * \n",
            "*   * \n"
          ]
        }
      ]
    },
    {
      "cell_type": "code",
      "source": [
        "'''10)Print an inverted pyramid pattern:\n",
        "                                  *******\n",
        "                                   *****\n",
        "                                    ***\n",
        "                                     * '''\n",
        "n=int(input(\"Enter the number of rows=\"))\n",
        "for i in range (1,n+1):\n",
        "  for j in range(0,i):\n",
        "    print(\" \",end=\"\")\n",
        "  for k in range(1,((n+1)-i)*2):\n",
        "    print(\"*\",end=\"\")\n",
        "  print(\" \")\n"
      ],
      "metadata": {
        "colab": {
          "base_uri": "https://localhost:8080/"
        },
        "id": "8OHw4zy7kkrQ",
        "outputId": "2da028e1-1662-4444-8441-5fdca078d05a"
      },
      "execution_count": 16,
      "outputs": [
        {
          "output_type": "stream",
          "name": "stdout",
          "text": [
            "Enter the number of rows=4\n",
            " ******* \n",
            "  ***** \n",
            "   *** \n",
            "    * \n"
          ]
        }
      ]
    },
    {
      "cell_type": "code",
      "source": [
        "'''11)Print an inverted hollow pyramid pattern:\n",
        "                                       *********\n",
        "                                        *     *\n",
        "                                         *   *\n",
        "                                          * *\n",
        "                                           *   '''\n",
        "n=int(input(\"Enter number of rows=\"))\n",
        "for i in range(0,n):\n",
        "  for j in range(0,((n-1)*2+1)):\n",
        "    if(i==0 or j==i or (j+i==(n-1)*2)):\n",
        "      print(\"*\",end=\"\")\n",
        "    else:\n",
        "      print(\" \",end=\"\")\n",
        "  print(\" \")\n"
      ],
      "metadata": {
        "colab": {
          "base_uri": "https://localhost:8080/"
        },
        "id": "0wb5yZuwmT5O",
        "outputId": "688cf8ee-fb95-46a9-d822-9948429bbded"
      },
      "execution_count": 18,
      "outputs": [
        {
          "output_type": "stream",
          "name": "stdout",
          "text": [
            "Enter number of rows=5\n",
            "********* \n",
            " *     *  \n",
            "  *   *   \n",
            "   * *    \n",
            "    *     \n"
          ]
        }
      ]
    },
    {
      "cell_type": "code",
      "source": [
        "'''12)Print a number pattern:\n",
        "                                 1\n",
        "                                 22\n",
        "                                 333\n",
        "                                 4444\n",
        "                                 55555 '''\n",
        "n=int(input(\"Enter the number of rows=\"))\n",
        "for i in range(1,n+1):\n",
        "  for j in range(1,i+1):\n",
        "    print(i,end=\"\")\n",
        "  print(\" \")"
      ],
      "metadata": {
        "colab": {
          "base_uri": "https://localhost:8080/"
        },
        "id": "BZDWCM9HntSa",
        "outputId": "937da82d-fc53-439d-e478-d83afa422cb3"
      },
      "execution_count": 19,
      "outputs": [
        {
          "output_type": "stream",
          "name": "stdout",
          "text": [
            "Enter the number of rows=5\n",
            "1 \n",
            "22 \n",
            "333 \n",
            "4444 \n",
            "55555 \n"
          ]
        }
      ]
    },
    {
      "cell_type": "code",
      "source": [
        "''' 13) Print a mirrored right angled triangle pattern:\n",
        "                                                    *\n",
        "                                                   **\n",
        "                                                  ***\n",
        "                                                 ****\n",
        "                                                ***** '''\n",
        "n=int(input(\"Enter number  of rows=\"))\n",
        "for i in range(1,n+1):\n",
        "  for j in range(0,n-i):\n",
        "    print(\" \",end=\"\")\n",
        "  for k in range(0,i):\n",
        "    print(\"*\",end=\"\")\n",
        "  print(\" \")\n"
      ],
      "metadata": {
        "colab": {
          "base_uri": "https://localhost:8080/"
        },
        "id": "mQXj90F6oLL2",
        "outputId": "deab5636-0967-4d0e-f92c-2120de7c0f65"
      },
      "execution_count": 23,
      "outputs": [
        {
          "output_type": "stream",
          "name": "stdout",
          "text": [
            "Enter number  of rows=5\n",
            "    * \n",
            "   ** \n",
            "  *** \n",
            " **** \n",
            "***** \n"
          ]
        }
      ]
    },
    {
      "cell_type": "code",
      "source": [
        "''' 14)Print a butterfly pattern:\n",
        "                                   *      *\n",
        "                                   **    **\n",
        "                                   ***  ***\n",
        "                                   ********\n",
        "                                   ********\n",
        "                                   ***  ***\n",
        "                                   **    **\n",
        "                                   *      * '''\n",
        "n=int(input(\"Enter number of rows=\"))\n",
        "for i in range(1,int(n/2)):\n",
        "  for j in range(0,i):\n",
        "    print(\"*\",end=\"\")\n",
        "  for k in range(0,int(n/2-i)*2):\n",
        "    print(\" \",end=\"\")\n",
        "  for l in range(0,i):\n",
        "    print(\"*\",end=\"\")\n",
        "  print(\" \")\n",
        "for i in range(0,n):\n",
        "  print(\"*\",end=\"\")\n",
        "print(\" \")\n",
        "for i in range(0,n):\n",
        "  print(\"*\",end=\"\")\n",
        "print(\" \")\n",
        "for i in range(1,int(n/2)):\n",
        "  for j in range(0,int(n/2-i)):\n",
        "    print(\"*\",end=\"\")\n",
        "  for k in range(0,i*2):\n",
        "    print(\" \",end=\"\")\n",
        "  for l in range(0,int(n/2-i)):\n",
        "    print(\"*\",end=\"\")\n",
        "  print(\" \")\n",
        "\n"
      ],
      "metadata": {
        "colab": {
          "base_uri": "https://localhost:8080/"
        },
        "id": "8mWo2zFvpyW8",
        "outputId": "12662571-d680-46e6-9b1e-535082d6f795"
      },
      "execution_count": 28,
      "outputs": [
        {
          "output_type": "stream",
          "name": "stdout",
          "text": [
            "Enter number of rows=8\n",
            "*      * \n",
            "**    ** \n",
            "***  *** \n",
            "******** \n",
            "******** \n",
            "***  *** \n",
            "**    ** \n",
            "*      * \n"
          ]
        }
      ]
    },
    {
      "cell_type": "code",
      "source": [
        "''' 15) Print an arrow pattern:\n",
        "                                            *\n",
        "                                           ***\n",
        "                                          *****\n",
        "                                         *******\n",
        "                                        *********\n",
        "                                          *****\n",
        "                                          *****\n",
        "                                          *****  '''\n",
        "n=int(input(\"Enter the  number of rows=\"))\n",
        "for i in range(1,n+1):\n",
        "  for j in range(0,n-i):\n",
        "    print(\" \",end=\"\")\n",
        "  for k in range(0,((i*2)-1)):\n",
        "    print(\"*\",end=\"\")\n",
        "  print(\" \")\n",
        "for i in range(0,n-2):\n",
        "  for k in range(0,n-3):\n",
        "    print(\" \",end=\"\")\n",
        "  for j in range(0,n):\n",
        "    print(\"*\",end=\"\")\n",
        "  print(\" \")\n"
      ],
      "metadata": {
        "colab": {
          "base_uri": "https://localhost:8080/"
        },
        "id": "x_d9XMgssXHb",
        "outputId": "c45ace5c-8e4a-4cc1-8eab-6f40fee50a9d"
      },
      "execution_count": 37,
      "outputs": [
        {
          "output_type": "stream",
          "name": "stdout",
          "text": [
            "Enter the  number of rows=5\n",
            "    * \n",
            "   *** \n",
            "  ***** \n",
            " ******* \n",
            "********* \n",
            "  ***** \n",
            "  ***** \n",
            "  ***** \n"
          ]
        }
      ]
    },
    {
      "cell_type": "code",
      "source": [
        "''' 16)Print a cross pattern:\n",
        "                                *   *\n",
        "                                 * *\n",
        "                                  *\n",
        "                                 * *\n",
        "                                *   *  '''\n",
        "n=int(input(\"Enter number of rows=\"))\n",
        "for i in range(0,n):\n",
        "  for j in range(0,n):\n",
        "    if(i==j or i+j==n-1):\n",
        "      print(\"*\",end=\"\")\n",
        "    else:\n",
        "      print(\" \",end=\"\")\n",
        "  print(\" \")\n",
        ""
      ],
      "metadata": {
        "colab": {
          "base_uri": "https://localhost:8080/"
        },
        "id": "JLeoXaYPuo5Z",
        "outputId": "43f0c5f3-274d-4538-b4de-4596b7b13991"
      },
      "execution_count": 38,
      "outputs": [
        {
          "output_type": "stream",
          "name": "stdout",
          "text": [
            "Enter number of rows=5\n",
            "*   * \n",
            " * *  \n",
            "  *   \n",
            " * *  \n",
            "*   * \n"
          ]
        }
      ]
    },
    {
      "cell_type": "code",
      "source": [
        "''' 17)Print a heart pattern:\n",
        "                                ***  ***\n",
        "                               ***** ****\n",
        "                              ************\n",
        "                               **********\n",
        "                                ********\n",
        "                                 ******\n",
        "                                   ***\n",
        "                                    *  '''\n",
        "n=int(input(\"Enter the number of rows=\"))\n",
        "for i in range(1,int(n/2)):\n",
        "  for j in range(0,(i*2)+1):\n",
        "    if(i==1 and j==0):\n",
        "      print(\" \",end=\"\")\n",
        "    else:\n",
        "      print(\"*\",end=\"\")\n",
        "  for k in range(0,int(n/2-i)):\n",
        "    print(\" \",end=\"\")\n",
        "  for l in range(0,(i*2)+1):\n",
        "    print(\"*\",end=\"\")\n",
        "  print(\" \")\n",
        "for i in range(1,n-1):\n",
        "  for j in range(0,i):\n",
        "    print(\" \",end=\"\")\n",
        "  for k in range(1,(n-1-i)*2):\n",
        "    print(\"*\",end=\"\")\n",
        "  print(\" \")\n",
        ""
      ],
      "metadata": {
        "colab": {
          "base_uri": "https://localhost:8080/"
        },
        "id": "0laF415Hva_H",
        "outputId": "6581fbc6-8fe1-42cf-b68d-7c7a77a9a58b"
      },
      "execution_count": 48,
      "outputs": [
        {
          "output_type": "stream",
          "name": "stdout",
          "text": [
            "Enter the number of rows=7\n",
            " **  *** \n",
            "***** ***** \n",
            " ********* \n",
            "  ******* \n",
            "   ***** \n",
            "    *** \n",
            "     * \n"
          ]
        }
      ]
    }
  ]
}